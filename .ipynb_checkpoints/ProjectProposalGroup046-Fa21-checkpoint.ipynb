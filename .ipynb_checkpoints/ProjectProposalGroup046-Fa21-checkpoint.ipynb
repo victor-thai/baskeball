{
 "cells": [
  {
   "cell_type": "markdown",
   "metadata": {},
   "source": [
    "# COGS 108 - Final Project Proposal"
   ]
  },
  {
   "cell_type": "markdown",
   "metadata": {},
   "source": [
    "# Names\n",
    "\n",
    "- Charles Ye (A15864281)\n",
    "- Thomas Fratantoni (A15940388)\n",
    "- Victor Thai (A16666301)\n",
    "- Wajiullah Abdullah (A13013121)\n"
   ]
  },
  {
   "cell_type": "markdown",
   "metadata": {},
   "source": [
    "# Research Question"
   ]
  },
  {
   "cell_type": "markdown",
   "metadata": {},
   "source": [
    "What characteristics do college basketball players have that lead them to have the highest player efficiency ratings in the NBA?"
   ]
  },
  {
   "cell_type": "markdown",
   "metadata": {},
   "source": [
    "## Background and Prior Work"
   ]
  },
  {
   "cell_type": "markdown",
   "metadata": {},
   "source": [
    "Player efficiency rating is a benchmark statistic in the NBA that gauges the player’s per minute statistical production and relevance to their team. This statistic is widely used in sports analytics to determine the “best” performing players each season. The league average PER is always a clean cut 15.00, readjusting and recalculating each season as the NBA evolves statistically(i.e. more 3s). \n",
    "\n",
    "According to Coates and Oguntimein in “The Length and Success of NBA Careers: Does College Production Predict Professional Outcomes?”, total points scored at the collegiate level had a significant correlation in regards to NBA draft position. While total points scored played a significant role in determining the players’ draft position, they had no correlation at all in accounting for points scored in the NBA possibly due to a variety of factors such as differences in officiating, offensive/defensive structures, and player roles. With this information in mind, we want to see if we can find a correlation between collegiate and NBA success using a broader metric such as PER rather than scoring.\n",
    "\n",
    "With that in mind, Liu and O’Brien in “Are Role Players the Foundation of NBA Team Success?”\n",
    "show how team success has a relative correlation with strong high PER role players. While the NBA is still very much a star driven league (i.e. the top teams will ALWAYS have a player or multiple players in the top 20 PERs of the season as seen at basketball-reference.com), their success in the wins column and post season is largely dependent on the PER of the star(s)’ supporting cast. \n",
    "\n",
    "As such, we believe that PER is a valuable statistic to help gauge the average NBA player’s individual performance and success in the NBA.\n",
    "\n",
    "\n",
    "References (include links):\n",
    "- 1)https://www.bruinsportsanalytics.com/post/nba_roleplayers\n",
    "- 2)https://paperzz.com/doc/7132806/the-length-and-success-of-nba-careers"
   ]
  },
  {
   "cell_type": "markdown",
   "metadata": {},
   "source": [
    "# Hypothesis\n"
   ]
  },
  {
   "cell_type": "markdown",
   "metadata": {},
   "source": [
    "We predict that college players with heights around 6’8”, wingspans around 7’, field goal percentages above 50%, and high scoring averages will have the highest player efficiency ratings in the NBA.\n"
   ]
  },
  {
   "cell_type": "markdown",
   "metadata": {},
   "source": [
    "# Data"
   ]
  },
  {
   "cell_type": "markdown",
   "metadata": {},
   "source": [
    "Our ideal data set would include all the college basketball players and have later moved onto NBA vs those that did not make it to the NBA. This allows us to be able to observe their growth and player stats to make a prediction on what characteristics are prevalent among those that make it to the league. Ideally we would like our dataset to be taken from the NBA roster and rosters from college basketball teams. To make it convenient for our analysis, we hope to be able to find CSV files that has all this information listed. \n",
    "\n",
    "Variables that we are looking for consist of player height, weight, wingspan, total games played, minutes played per game, field goal percentage, free throw percentage, player efficiency rating, steals per game and points per game. These traits can help us gain insight on characteristics of players who make it to the league as compared to those that don’t make it. The size of the dataset is dependent on the date that we plan on looking back to. As of right now, we are unsure of how much data we can find, but ideally, we would like to see 10 years of data that would add up to 3000 observations. \n",
    "\n",
    "Looking at available datasets that exist now, we were able to locate a number of csv files with NBA player stats on it. The troubling part of gathering this data is that college basketball stats are not conveniently listed anywhere. Therefore, we will have to use an existent web scraper that would allow us to scrape data off of a website that contains all this information. \n"
   ]
  },
  {
   "cell_type": "markdown",
   "metadata": {},
   "source": [
    "# Ethics & Privacy"
   ]
  },
  {
   "cell_type": "markdown",
   "metadata": {},
   "source": [
    "In terms of privacy, the data that we intend to collect is readily available to the general public, so privacy is not one of our main concerns. Biases in our model could exist since the process of drafting players into the NBA is a fundamentally biased process. Scouts and general managers look for certain characteristics in potential players before signing them, and biases in their selection process have a direct impact on which players get a chance to prove themselves in the league. Without taking the proper steps to minimize bias in our model, we could potentially create a model which reinforces those biases and would make it harder for certain players to be drafted if NBA teams were to use our model. In order to detect these biases, we will analyze the datasets we collect to determine what player characteristics are prevalent in drafted players, and aim to understand how much of that is due to bias and how much is due to actual ability. For example, NBA scouts may have a strong bias in preferring taller players, so we will need to determine whether this is a reasonable strategy or an unhelpful bias. This topic is particularly tricky in regards to certain types of discrimination such as age and body type, because when it comes to consistent athletic performance those factors are important. We will need to be extremely thorough in our efforts to understand how much unnecessary bias exists in the drafting process."
   ]
  },
  {
   "cell_type": "markdown",
   "metadata": {},
   "source": [
    "# Team Expectations "
   ]
  },
  {
   "cell_type": "markdown",
   "metadata": {},
   "source": [
    "* *Work on the project collaboratively and evenly throughout the process*\n",
    "* *Give everybody the opportunity and chance to participate*\n",
    "* *Communicate and respond to each other’s questions and concerns *\n",
    "* *Meet weekly at a time that works for everyone*\n",
    "* *Plan accordingly with deadlines in mind*\n"
   ]
  },
  {
   "cell_type": "markdown",
   "metadata": {},
   "source": [
    "# Project Timeline Proposal"
   ]
  },
  {
   "cell_type": "markdown",
   "metadata": {},
   "source": [
    "| Meeting Date  | Meeting Time| Completed Before Meeting  | Discuss at Meeting |\n",
    "|---|---|---|---|\n",
    "| 10/28  |  1 PM | Import and wrangle data  | Review/edit | \n",
    "| 11/4  |  1 PM |  Finalize edit and begin analysis | Discuss/edit | \n",
    "| 11/11  | 1 PM  | Complete Analysis  | Discuss   |\n",
    "| 11/18  | 1 PM  | Work on results | Discuss/edit   |\n",
    "| 11/25  | 1 PM  | Work on results | Discuss/edit |\n",
    "| 12/2  | 1 PM  | Draft conclusions/discussion | Discuss/edit full project |\n",
    "| 12/10  | Before 11:59 PM  | NA | Turn in Final Project & Group Project Surveys |"
   ]
  }
 ],
 "metadata": {
  "kernelspec": {
   "display_name": "Python 3",
   "language": "python",
   "name": "python3"
  },
  "language_info": {
   "codemirror_mode": {
    "name": "ipython",
    "version": 3
   },
   "file_extension": ".py",
   "mimetype": "text/x-python",
   "name": "python",
   "nbconvert_exporter": "python",
   "pygments_lexer": "ipython3",
   "version": "3.8.5"
  }
 },
 "nbformat": 4,
 "nbformat_minor": 2
}
