{
 "cells": [
  {
   "cell_type": "markdown",
   "metadata": {},
   "source": [
    "# Predicting Efficiency in NBA Players"
   ]
  },
  {
   "cell_type": "markdown",
   "metadata": {},
   "source": [
    "## Permissions\n",
    "\n",
    "Place an `X` in the appropriate bracket below to specify if you would like your group's project to be made available to the public. (Note that student names will be included (but PIDs will be scraped from any groups who include their PIDs).\n",
    "\n",
    "* [  ] YES - make available\n",
    "* [ X ] NO - keep private"
   ]
  },
  {
   "cell_type": "markdown",
   "metadata": {},
   "source": [
    "# Overview"
   ]
  },
  {
   "cell_type": "markdown",
   "metadata": {},
   "source": [
    "*Fill in your overview here*\n",
    "\n",
    "This analysis is derived from the increase in statistical analysis surrounding the NBA in the 2010s. With the rise of statistics driving the league in terms of player allotted roles and playing time, we wanted to see if a player’s PER could be predicted or determined through a player’s measurements(i.e. height, weight) and collegiate performance(i.e. ppg, fgm, ftm, fg%, etc.). The main pieces of data we will be looking at are a player’s height, weight, and collegiate performance. We data scraped this information from basketball reference and ran our analysis of those statistics alongside current day NBA player career PERs."
   ]
  },
  {
   "cell_type": "markdown",
   "metadata": {},
   "source": [
    "# Names\n",
    "\n",
    "- Charles Ye (A15864281)\n",
    "- Thomas Fratantoni (A15940388)\n",
    "- Victor Thai (A16666301)\n",
    "- Wajiullah Abdullah (A13013121)"
   ]
  },
  {
   "cell_type": "markdown",
   "metadata": {},
   "source": [
    "<a id='research_question'></a>\n",
    "# Research Question"
   ]
  },
  {
   "cell_type": "markdown",
   "metadata": {},
   "source": [
    "Is there a relationship between a NCAA basketball player’s statistics (height, collegiate league performance, efficiency ratings) and their success/player efficiency rating in the NBA?"
   ]
  },
  {
   "cell_type": "markdown",
   "metadata": {},
   "source": [
    "<a id='background'></a>\n",
    "\n",
    "## Background & Prior Work"
   ]
  },
  {
   "cell_type": "markdown",
   "metadata": {},
   "source": [
    "Is there a minimum height requirement for college basketball (NCAA) players to meet in order to be successful in the NBA? Many of these players are still growing with how young some are drafted, so even then draft scouts and teams are drafting based on potential for growth. According to Dimitrije Curcic in “70 years of Height Evolution in the NBA” the average NBA player is 6’6.3” (2021) which is the lowest it has been over the past 41 years. The last decade was the first in the history of the league where NBA players got shorter than a decade before Curcic expands. Although fewer in number, the death of the NBA big man has been greatly exaggerated as NBA big-men are dominating in shooting efficiency and PER, breaking all-time NBA records. To explore our question, we looked at field goal percentage, points per game, free throw percentage, field goals, three pointers both attempted and made per game, as well as effective field goal percentage throughout their collegiate and professional careers to find a relationship in these statistics to determine if college performance was determinant to NBA success. \n",
    "\n",
    "Field goal percentage is the ratio of field goals made to field goals attempted, although three-point field goal percentage can be calculated separately, three-point field goals are included in this general field goal percentage measurement. \n",
    "\n",
    "Effective field goal percentage is a statistic in basketball that adjusts for the fact that a 3-point field goal is worth one more point than a 2-point field goal.\n",
    "\n",
    "Points per game is the number of points a player has scored over the course of a game. \n",
    "\n",
    "Player efficiency rating is a benchmark statistic in the NBA that gauges the player’s per minute statistical production and relevance to their team. This statistic is widely used in sports analytics to determine the “best” performing players each season. The league average PER is always a clean cut 15.00, readjusting and recalculating each season as the NBA evolves statistically(i.e. more 3s).\n",
    "\n",
    "According to Coates and Oguntimein in “The Length and Success of NBA Careers: Does College Production Predict Professional Outcomes?”, total points scored at the collegiate level had a significant correlation in regards to NBA draft position. While total points scored played a significant role in determining the players’ draft position, they had no correlation at all in accounting for points scored in the NBA possibly due to a variety of factors such as differences in officiating, offensive/defensive structures, and player roles. With this information in mind, we want to see if we can find a correlation between collegiate and NBA success using a broader metric such as PER rather than scoring.\n",
    "\n",
    "With that in mind, Liu and O’Brien in “Are Role Players the Foundation of NBA Team Success?” show how team success has a relative correlation with strong high PER role players. While the NBA is still very much a star driven league (i.e. the top teams will ALWAYS have a player or multiple players in the top 20 PERs of the season as seen at basketball-reference.com), their success in the wins column and post season is largely dependent on the PER of the star(s)’ supporting cast.\n",
    "\n",
    "As such, we believe that PER is a valuable statistic to help gauge the average NBA player’s individual performance and success in the NBA, but it’s not the end all be all. As Kelly Scaletta says in “The NBA’s 10 most meaningless stats and arguments” the problem with PER is that it doesn’t distinguish between an assisted field goal or an unassisted field goal, that way completely ignoring a player’s ability to create their own shot. What’s valuable about players who can create their own shots is that they can influence and change defensive schemes by themselves, and thus draw more attention to themselves and break down defenses.\n",
    "\n",
    "\n",
    "References (include links):\n",
    "- 1)https://www.bruinsportsanalytics.com/post/nba_roleplayers\n",
    "- 2)https://paperzz.com/doc/7132806/the-length-and-success-of-nba-careers\n",
    "- 3)https://runrepeat.com/height-evolution-in-the-nba\n",
    "- 4)https://bleacherreport.com/articles/815181-nba-power-rankings-the-10-most-meaningless-stats-and-arguments-in-basketball"
   ]
  },
  {
   "cell_type": "markdown",
   "metadata": {},
   "source": [
    "# Hypothesis\n"
   ]
  },
  {
   "cell_type": "markdown",
   "metadata": {},
   "source": [
    "We predict that college players with heights around 6’8” to above 7 feet (which would be considered as 'big men' in the NBA), field goal percentages above 50%, and high scoring averages will have the highest player efficiency ratings in the NBA.\n",
    "\n",
    "Apart from aiming to determine whether or not our hypothesis is true but through our analysis, we strive to gain a deeper understanding for which features may have a greater influence among a NBA basketball player's success in the league.\n"
   ]
  },
  {
   "cell_type": "markdown",
   "metadata": {},
   "source": [
    "# Dataset(s)"
   ]
  },
  {
   "cell_type": "markdown",
   "metadata": {},
   "source": [
    "* Dataset Name: Basketball Reference NBA Player Directory\n",
    "* Link to the dataset: https://www.basketball-reference.com/players/\n",
    "* Number of observations: 4974\n",
    "    \n",
    "This database consists of NBA player background information, summary statistics, per game statistics in the NBA and totals for all players since the NBA was formed which we need for our analysis."
   ]
  },
  {
   "cell_type": "markdown",
   "metadata": {},
   "source": [
    "# Setup"
   ]
  },
  {
   "cell_type": "markdown",
   "metadata": {},
   "source": [
    "Each player has their own designated webpage that lists their statistics, but it is important to note that there is no simple way to gain access to this information. As a result, we have applied and adapted webscraping code from Ben Pierce on https://data.world/login?next=%2Fbgp12%2Fnbancaacomparisons%2Fworkspace%2Ffile%3Ffilename%3Ddataget.py to which we give them full credit for.\n",
    "\n",
    "\n",
    "\n",
    "This code uses Beautiful Soup, a HTML parser on python used for web scraping. Essentially, the code utilizes Beautiful Soup to search through each player's webpage looking for the first table to gain access to the player's background information hidden inside HTML's 'tbody' section (height, weight, first active, last active, college (if applicable), position). After collecting background information, it runs to find the average per game statisitcs hidden in 'tfoot' of the table which contains most of the information that we need for our dataset. \n",
    "\n",
    "An important thing to note is that this code does not grab an individual's PER, player efficiency rating, from their webpage. To implement this in the borrowed code, we had to add onto the existing code given that collected per game statistics to look through the 'p3' id under the HTML label for 'info'.\n",
    "\n",
    "For simplicity and organization, we have also attached the edited web scraping code within our GitHub under the file 'basketball_reference_web_scraper.ipynb'. This helps to prevent any errors from the vast volume of the web scraping code with our project.\n",
    "\n"
   ]
  },
  {
   "cell_type": "code",
   "execution_count": null,
   "metadata": {},
   "outputs": [],
   "source": [
    "#import python packages\n",
    "import pandas as pd\n",
    "import numpy as np\n",
    "import seaborn as sns\n",
    "from datetime import datetime"
   ]
  },
  {
   "cell_type": "markdown",
   "metadata": {},
   "source": [
    "# Data Cleaning"
   ]
  },
  {
   "cell_type": "code",
   "execution_count": null,
   "metadata": {
    "scrolled": false
   },
   "outputs": [],
   "source": [
    "#First let us clean the web scraped nba_players_w_PER dataset, which has all the NBA and NCAA (collegiate) basketball player data.\n",
    "players = pd.read_csv('nba_players_w_PER.csv')\n",
    "players.head()"
   ]
  },
  {
   "cell_type": "code",
   "execution_count": null,
   "metadata": {
    "scrolled": false
   },
   "outputs": [],
   "source": [
    "#Significant number of columns and listed below are the definitions of each column.\n",
    "players.columns"
   ]
  },
  {
   "cell_type": "markdown",
   "metadata": {},
   "source": [
    "The 34 columns of the dataset have the following definitions...\n",
    "\n",
    "| Column Name | Definition |\n",
    "| ----------- | ---------- |\n",
    "| 'Unnamed: 0' | excess column with no meaning, exactly the same as index|\n",
    "| 'url' | url of the player website from basketball-reference.com/ + 'url'|\n",
    "| 'name' | name of the player |\n",
    "| 'active_from' | when they started playing in NBA |\n",
    "| 'active_to' | when they stopped playing in NBA |\n",
    "| 'position' | position that they played in the NBA |\n",
    "| 'college' | college that player attended |\n",
    "| 'weight' | weight of the player |\n",
    "| 'birth_date' | birthdate of player |\n",
    "| 'NBA_fg%' | NBA field goal percent |\n",
    "| 'NBA_g_played' | NBA games played |\n",
    "| 'NBA_ppg' | NBA average points per game |\n",
    "| 'NBA_ft%' | NBA free throw percent |\n",
    "| 'NBA_fg_per_game' | NBA average field goals per game |\n",
    "| 'NBA_fga_per_game' | NBA average field goal attempts per game |\n",
    "| 'NBA_ft_per_g' | NBA averagefree throws per game |\n",
    "| 'NBA_fta_p_g' | NBA average free throws attempted per game | \n",
    "| ''NBA__3ptpg' | NBA average 3 point points per game | \n",
    "| 'NBA__3ptapg' | NBA average 3 point points attempted per game |\n",
    "| 'NBA_efgpct' | NBA effective field goal percentage |\n",
    "| 'NCAA_fgpct' | NCAA field goal percent |\n",
    "| 'NCAA_games' | NCAA games played |\n",
    "| 'NCAA_ppg' | NCAA average points per game |\n",
    "| 'NCAA_ft' | NCAA average free throws per game |\n",
    "| 'NCAA_fgpg' | NCAA averafe field goals per game |\n",
    "| 'NCAA_fgapg' | NCAA average field goal attempts per game |\n",
    "| 'NCAA_ftpg' | NCAA average free throws per game |\n",
    "| 'NCAA_ftapg' | NCAA average free throws attempted per game |\n",
    "| 'NCAA__3ptpg' | NCAA average 3 points per game |\n",
    "| 'NCAA__3ptapg' | NCAA average 3 point attempted per game |\n",
    "| 'NCAA__3ptpct' | NCAA 3 point percent |\n",
    "| 'NCAA_efgpct' | NCAA effective field goal percent |\n",
    "| 'PER' | NBA player efficiency rating |"
   ]
  },
  {
   "cell_type": "code",
   "execution_count": null,
   "metadata": {
    "scrolled": false
   },
   "outputs": [],
   "source": [
    "# describing data and looking for any unique trends/patterns\n",
    "players.describe()"
   ]
  },
  {
   "cell_type": "code",
   "execution_count": null,
   "metadata": {},
   "outputs": [],
   "source": [
    "#columns with null values\n",
    "players.isna().sum()"
   ]
  },
  {
   "cell_type": "markdown",
   "metadata": {},
   "source": [
    "Looking at the null values and the decribe method, we decided to drop the following columns.\n",
    "\n",
    "- **'NCAA_efgpct'**: collegiate effective field goal percentage which is null for all players.\n",
    "\n",
    "- **'Unnamed: 0'**: excess column that just has index.\n",
    "\n",
    "\n",
    "Columns that have null values are college, weight, birth_date, NBA_fg%, NBA_ft%, NBA__3ptpg, NBA__3ptapg, NBA__3ptpct, NBA_efgpct, NCAA_fgpct, NCAA_games, NCAA_ppg, NCAA_ft, NCAA_fgpg, NCAA_fgapg, NCAA_ftpg, NCAA_ftapg, NCAA__3ptpg, NCAA__3ptapg, NCAA__3ptpct, NCAA_efgpct which we will look further into."
   ]
  },
  {
   "cell_type": "code",
   "execution_count": null,
   "metadata": {},
   "outputs": [],
   "source": [
    "#dropping columns\n",
    "players = players.drop(columns = ['Unnamed: 0','NCAA_efgpct'], axis = 1)\n",
    "players"
   ]
  },
  {
   "cell_type": "code",
   "execution_count": null,
   "metadata": {},
   "outputs": [],
   "source": [
    "#finding who are the ones that have missing weight values\n",
    "weight_missing = players[players['weight'].isnull() == True]\n",
    "weight_missing_index = weight_missing.index\n",
    "players.loc[weight_missing_index]"
   ]
  },
  {
   "cell_type": "code",
   "execution_count": null,
   "metadata": {
    "scrolled": false
   },
   "outputs": [],
   "source": [
    "#the weights of these players cannot be found anywhere.\n",
    "#so dropping these players since its old and they didn't play for long. \n",
    "players = players.drop(index=weight_missing_index, axis=0).reset_index()"
   ]
  },
  {
   "cell_type": "code",
   "execution_count": null,
   "metadata": {},
   "outputs": [],
   "source": [
    "#finding birthdays that are missing\n",
    "birthday_missing = players[players['birth_date'].isnull() == True]\n",
    "birthday_missing\n",
    "birthday_missing_index = birthday_missing.index\n",
    "players.loc[birthday_missing_index].head(5)"
   ]
  },
  {
   "cell_type": "code",
   "execution_count": null,
   "metadata": {
    "scrolled": true
   },
   "outputs": [],
   "source": [
    "#dropping these rows since we can't find the birthdays for them \n",
    "#and their active time frame is within the same year so should not have influence on our analysis.\n",
    "players = players.drop(index = birthday_missing_index, axis = 0).reset_index()"
   ]
  },
  {
   "cell_type": "markdown",
   "metadata": {},
   "source": [
    "The '3 point shot' was not adopted into the NBA until 1980. This means that players that played before this time cannot must not have shot a 3 point shot. So we can replace their null values with 0's since they didn't shoot a 3 point shot.\n",
    "\n",
    "The same applies for games for NCAA games,except that the NCAA adopted the 3 point shot in 1986.\n",
    "\n",
    "\n",
    "\n",
    "https://www.usab.com/youth/news/2011/06/the-history-of-the-3-pointer.aspx"
   ]
  },
  {
   "cell_type": "code",
   "execution_count": null,
   "metadata": {},
   "outputs": [],
   "source": [
    "players.columns"
   ]
  },
  {
   "cell_type": "code",
   "execution_count": null,
   "metadata": {},
   "outputs": [],
   "source": [
    "# player years that did not have nba 3 point data\n",
    "players[players['NBA__3ptpg'].isna()]['active_to'].sort_values().unique()"
   ]
  },
  {
   "cell_type": "code",
   "execution_count": null,
   "metadata": {},
   "outputs": [],
   "source": [
    "# making 3 point shot values equal 0 since 3 point was not used before 1980 NBA games\n",
    "players.loc[((players['NBA__3ptpg'].isna())&(players['active_from']<1980)), ['NBA__3ptpg','NBA__3ptpct','NBA__3ptapg']] = 0\n",
    "\n",
    "#making 3 point shot values equal to 0 since 3 point was not used before 1987 NCAA games\n",
    "players.loc[((players['NCAA__3ptpg'].isna())&(players['active_from']<1987)), ['NCAA__3ptpg','NCAA__3ptapg', 'NCAA__3ptpct']] = 0"
   ]
  },
  {
   "cell_type": "code",
   "execution_count": null,
   "metadata": {},
   "outputs": [],
   "source": [
    "# if they scored 0 field goals, free throws, 3 point, then their percentages are 0.\n",
    "players.loc[((players['NBA_fg%'].isna()) & (players['NBA_fg_per_game'] == 0)), 'NBA_fg%'] = 0\n",
    "players.loc[((players['NBA_ft%'].isna()) & (players['NBA_ft_per_g'] == 0)), 'NBA_ft%'] = 0\n",
    "players.loc[((players['NBA__3ptpct'].isna()) & (players['NBA__3ptpg'] == 0)), 'NBA_3ptpct'] = 0\n",
    "players.loc[((players['NBA_efgpct'].isna()) & (players['NBA_fg_per_game'] == 0)), 'NBA_efgpct'] = 0"
   ]
  },
  {
   "cell_type": "code",
   "execution_count": null,
   "metadata": {},
   "outputs": [],
   "source": [
    "#updated null values in columns\n",
    "players.isna().sum()"
   ]
  },
  {
   "cell_type": "code",
   "execution_count": null,
   "metadata": {},
   "outputs": [],
   "source": [
    "#adding a column that tells us how long players play in NBA\n",
    "players['years_played_NBA'] = players['active_to']-players['active_from']"
   ]
  },
  {
   "cell_type": "code",
   "execution_count": null,
   "metadata": {},
   "outputs": [],
   "source": [
    "#taking a look at the columns we have now\n",
    "players.columns"
   ]
  },
  {
   "cell_type": "code",
   "execution_count": null,
   "metadata": {},
   "outputs": [],
   "source": [
    "#putting into consistent data types\n",
    "players.dtypes"
   ]
  },
  {
   "cell_type": "code",
   "execution_count": null,
   "metadata": {
    "scrolled": false
   },
   "outputs": [],
   "source": [
    "#casting college column to string type\n",
    "players['college'] = players['college'].astype(str)\n",
    "#casting position to string type\n",
    "players['position'] = players['position'].astype(str)\n",
    "#casting PER to float type\n",
    "def per_float(per):\n",
    "    if per == '-':\n",
    "        #there is one value that has just a '-' so we will set that to 0\n",
    "        return 0\n",
    "    else:\n",
    "        return float(per)\n",
    "players['PER'] = players['PER'].apply(per_float) \n",
    "#casting height to int type\n",
    "def height_inches(height):\n",
    "    feet = int(height[0])\n",
    "    inches = 0\n",
    "    if len(height) == 4:\n",
    "        inches = int(height[2:4] )\n",
    "    if len(height) == 3:\n",
    "        inches = int(height[2])\n",
    "    return (feet * 12) + inches\n",
    "players['height'] = players['height'].apply(height_inches)"
   ]
  },
  {
   "cell_type": "code",
   "execution_count": null,
   "metadata": {},
   "outputs": [],
   "source": [
    "#Since the birthdays are written out in readable format, we want something that we can work with in pandas.\n",
    "players['birth_date']"
   ]
  },
  {
   "cell_type": "code",
   "execution_count": null,
   "metadata": {},
   "outputs": [],
   "source": [
    "#changing written birthdates into numerical ones that we can manipulate in the dataframe\n",
    "def birthdate(day):\n",
    "    day = day.replace(',', '')\n",
    "    day = day.lower()\n",
    "\n",
    "    output = datetime.strptime(day, '%B %d %Y')\n",
    "    return output.date()\n",
    "\n",
    "players['birth_date'] = players['birth_date'].apply(birthdate)"
   ]
  },
  {
   "cell_type": "code",
   "execution_count": null,
   "metadata": {
    "scrolled": false
   },
   "outputs": [],
   "source": [
    "#cleaning up player columns\n",
    "players = players.rename(columns={'name':'player_name','NBA_fg_per_game':'NBA_fgpg',\n",
    "                        'NBA_fga_per_game':'NBA_fgapg','NBA_ft_per_g':'NBA_ftpg','NBA_fta_p_g':'NBA_ftapg',\n",
    "                       'NBA__3ptpg':'NBA_3ptpg','NBA__3ptapg':'NBA_3ptapg','NBA__3ptpct':'NBA_3pt%',\n",
    "                       'NBA_efgpct':'NBA_efg%','NCAA_fgpct':'NCAA_fg%','NCAA__3ptpg':'NCAA_3ptpg',\n",
    "                       'NCAA__3ptapg':'NCAA_3ptapg','NCAA__3ptpct':'NCAA_3pt%','PER':'NBA_per'})\n",
    "#organize the dataframe and relabel columns\n",
    "columns = ['player_name','height','weight','birth_date','active_from','active_to','position',\n",
    "           'years_played_NBA','college','NBA_g_played', 'NBA_per', 'NBA_fg%', 'NBA_ppg',\n",
    "       'NBA_ft%', 'NBA_fgpg', 'NBA_fgapg', 'NBA_ftpg',\n",
    "       'NBA_ftapg', 'NBA_3ptpg', 'NBA_3ptapg', 'NBA_3pt%', 'NBA_efg%',\n",
    "       'NCAA_fg%', 'NCAA_games', 'NCAA_ppg', 'NCAA_ft', 'NCAA_fgpg',\n",
    "       'NCAA_fgapg', 'NCAA_ftpg', 'NCAA_ftapg', 'NCAA_3ptpg', 'NCAA_3ptapg',\n",
    "       'NCAA_3pt%']\n",
    "players = players[columns]\n",
    "players.head()"
   ]
  },
  {
   "cell_type": "code",
   "execution_count": null,
   "metadata": {
    "scrolled": false
   },
   "outputs": [],
   "source": [
    "#After renaming the columns, we are left with these renamed columns which we will use for our analysis.\n",
    "players.columns"
   ]
  },
  {
   "cell_type": "code",
   "execution_count": null,
   "metadata": {
    "scrolled": false
   },
   "outputs": [],
   "source": [
    "#nba players that did not go to college\n",
    "no_college = players[players['college'] == 'nan']\n",
    "no_college\n",
    "\n",
    "#add a new column that tells whether or not they went to college\n",
    "def going_college(val):\n",
    "    if val == 'nan':\n",
    "        return False\n",
    "    else:\n",
    "        return True\n",
    "\n",
    "players['go_college'] = players['college'].apply(going_college)"
   ]
  },
  {
   "cell_type": "code",
   "execution_count": null,
   "metadata": {},
   "outputs": [],
   "source": [
    "#players that did not go to college and have null ncaa games, meaning they did not play in the NCAA\n",
    "players.loc[((players['go_college'] == False)&(players['NCAA_games'].isna())), ['NCAA_fg%', 'NCAA_games', 'NCAA_ppg', 'NCAA_ft',\n",
    "       'NCAA_fgpg', 'NCAA_fgapg', 'NCAA_ftpg', 'NCAA_ftapg', 'NCAA_3ptpg',\n",
    "       'NCAA_3ptapg', 'NCAA_3pt%']] = 0"
   ]
  },
  {
   "cell_type": "markdown",
   "metadata": {},
   "source": [
    "The '3 point shot' was not adopted into the NBA until 1980. This means that players that played before this time cannot must not have shot a 3 point shot. So we can replace their null values with 0's since they didn't shoot a 3 point shot.\n",
    "\n",
    "The same applies for games for NCAA games,except that the NCAA adopted the 3 point shot in 1986.\n",
    "\n",
    "\n",
    "\n",
    "https://www.usab.com/youth/news/2011/06/the-history-of-the-3-pointer.aspx"
   ]
  },
  {
   "cell_type": "code",
   "execution_count": null,
   "metadata": {},
   "outputs": [],
   "source": [
    "#many players listed here did not play in the NCAA, but went to college. A vast majority instead played in the junior college basketball league,played in another country, or signed with different leagues.\n",
    "players[(players['NCAA_games'].isna())&(players['go_college']==True)].sort_values('active_from')"
   ]
  },
  {
   "cell_type": "code",
   "execution_count": null,
   "metadata": {},
   "outputs": [],
   "source": [
    "players.columns"
   ]
  },
  {
   "cell_type": "code",
   "execution_count": null,
   "metadata": {},
   "outputs": [],
   "source": [
    "#players that did not play in ncaa should have ncaa_games be at 0\n",
    "no_ncaa_games = players[(players['NCAA_games'].isna())]\n",
    "players.loc[((players['NCAA_games'].isna())), ['NCAA_fg%', 'NCAA_games', 'NCAA_ppg', 'NCAA_ft',\n",
    "       'NCAA_fgpg', 'NCAA_fgapg', 'NCAA_ftpg', 'NCAA_ftapg', 'NCAA_3ptpg',\n",
    "       'NCAA_3ptapg', 'NCAA_3pt%']] = 0"
   ]
  },
  {
   "cell_type": "code",
   "execution_count": null,
   "metadata": {
    "scrolled": false
   },
   "outputs": [],
   "source": [
    "players.isna().sum()"
   ]
  },
  {
   "cell_type": "markdown",
   "metadata": {},
   "source": [
    "At this point in our data cleaning, we are no longer able to clean the data any longer. The remaining null values are values that are null due to to the web scraper not finding any data for those players. These null values should not affect our analysis signficantly since we are left with ~250 null values for the NCAA_3pt variables.\n",
    "\n",
    "We are now able to start our analysis."
   ]
  },
  {
   "cell_type": "code",
   "execution_count": null,
   "metadata": {},
   "outputs": [],
   "source": [
    "# players.to_csv('players_cleaned_dataset.csv')"
   ]
  },
  {
   "cell_type": "markdown",
   "metadata": {},
   "source": [
    "# Data Analysis & Results"
   ]
  },
  {
   "cell_type": "markdown",
   "metadata": {},
   "source": [
    "Include cells that describe the steps in your data analysis."
   ]
  },
  {
   "cell_type": "code",
   "execution_count": 1,
   "metadata": {},
   "outputs": [],
   "source": [
    "# importing packages\n",
    "\n",
    "import pandas as pd\n",
    "pd.set_option('display.max_columns', None) # makes dataframes more readable\n",
    "\n",
    "import seaborn as sns\n",
    "import numpy as np\n",
    "import matplotlib.pyplot as plt\n",
    "from sklearn.model_selection import train_test_split\n",
    "import statsmodels.api as sm"
   ]
  },
  {
   "cell_type": "code",
   "execution_count": 2,
   "metadata": {},
   "outputs": [],
   "source": [
    "# importing the cleaned dataset with players' NBA and college stats\n",
    "final_df = pd.read_csv('players_cleaned_dataset.txt') "
   ]
  },
  {
   "cell_type": "code",
   "execution_count": 3,
   "metadata": {},
   "outputs": [],
   "source": [
    "# filtering the dataframe to only look at NBA players who played in college\n",
    "final_df = final_df[final_df['go_college'] == True] "
   ]
  },
  {
   "cell_type": "code",
   "execution_count": 4,
   "metadata": {},
   "outputs": [],
   "source": [
    "# filtering the dataframe to only look at players that have a numeric value for Player Effiency Rating (PER)\n",
    "# players missing a PER currently have a value of '-'\n",
    "final_df = final_df[final_df['NBA_per'] != '-'] \n",
    "\n",
    "# changing the type of the NBA_per column to float in order to analyze it\n",
    "final_df['NBA_per'] = final_df['NBA_per'].astype('float') "
   ]
  },
  {
   "cell_type": "code",
   "execution_count": 5,
   "metadata": {},
   "outputs": [
    {
     "data": {
      "text/html": [
       "<div>\n",
       "<style scoped>\n",
       "    .dataframe tbody tr th:only-of-type {\n",
       "        vertical-align: middle;\n",
       "    }\n",
       "\n",
       "    .dataframe tbody tr th {\n",
       "        vertical-align: top;\n",
       "    }\n",
       "\n",
       "    .dataframe thead th {\n",
       "        text-align: right;\n",
       "    }\n",
       "</style>\n",
       "<table border=\"1\" class=\"dataframe\">\n",
       "  <thead>\n",
       "    <tr style=\"text-align: right;\">\n",
       "      <th></th>\n",
       "      <th>Unnamed: 0</th>\n",
       "      <th>height</th>\n",
       "      <th>weight</th>\n",
       "      <th>active_from</th>\n",
       "      <th>active_to</th>\n",
       "      <th>years_played_NBA</th>\n",
       "      <th>NBA_g_played</th>\n",
       "      <th>NBA_per</th>\n",
       "      <th>NBA_fg%</th>\n",
       "      <th>NBA_ppg</th>\n",
       "      <th>NBA_ft%</th>\n",
       "      <th>NBA_fgpg</th>\n",
       "      <th>NBA_fgapg</th>\n",
       "      <th>NBA_ftpg</th>\n",
       "      <th>NBA_ftapg</th>\n",
       "      <th>NBA_3ptpg</th>\n",
       "      <th>NBA_3ptapg</th>\n",
       "      <th>NBA_3pt%</th>\n",
       "      <th>NBA_efg%</th>\n",
       "      <th>NCAA_fg%</th>\n",
       "      <th>NCAA_games</th>\n",
       "      <th>NCAA_ppg</th>\n",
       "      <th>NCAA_ft</th>\n",
       "      <th>NCAA_fgpg</th>\n",
       "      <th>NCAA_fgapg</th>\n",
       "      <th>NCAA_ftpg</th>\n",
       "      <th>NCAA_ftapg</th>\n",
       "      <th>NCAA_3ptpg</th>\n",
       "      <th>NCAA_3ptapg</th>\n",
       "      <th>NCAA_3pt%</th>\n",
       "    </tr>\n",
       "  </thead>\n",
       "  <tbody>\n",
       "    <tr>\n",
       "      <th>count</th>\n",
       "      <td>4269.000000</td>\n",
       "      <td>4269.000000</td>\n",
       "      <td>4269.000000</td>\n",
       "      <td>4269.000000</td>\n",
       "      <td>4269.000000</td>\n",
       "      <td>4269.000000</td>\n",
       "      <td>4269.000000</td>\n",
       "      <td>4269.000000</td>\n",
       "      <td>4269.000000</td>\n",
       "      <td>4269.000000</td>\n",
       "      <td>4269.000000</td>\n",
       "      <td>4269.000000</td>\n",
       "      <td>4269.000000</td>\n",
       "      <td>4269.000000</td>\n",
       "      <td>4269.000000</td>\n",
       "      <td>4269.000000</td>\n",
       "      <td>4269.000000</td>\n",
       "      <td>4269.000000</td>\n",
       "      <td>3512.000000</td>\n",
       "      <td>4247.000000</td>\n",
       "      <td>4269.000000</td>\n",
       "      <td>4269.000000</td>\n",
       "      <td>4263.000000</td>\n",
       "      <td>4269.000000</td>\n",
       "      <td>4247.000000</td>\n",
       "      <td>4269.000000</td>\n",
       "      <td>4263.000000</td>\n",
       "      <td>4000.000000</td>\n",
       "      <td>4000.000000</td>\n",
       "      <td>4039.000000</td>\n",
       "    </tr>\n",
       "    <tr>\n",
       "      <th>mean</th>\n",
       "      <td>2472.187163</td>\n",
       "      <td>78.066292</td>\n",
       "      <td>209.717967</td>\n",
       "      <td>1989.909112</td>\n",
       "      <td>1994.367768</td>\n",
       "      <td>4.458655</td>\n",
       "      <td>283.939799</td>\n",
       "      <td>11.221410</td>\n",
       "      <td>0.415855</td>\n",
       "      <td>6.516936</td>\n",
       "      <td>0.669364</td>\n",
       "      <td>2.498454</td>\n",
       "      <td>5.770461</td>\n",
       "      <td>1.267182</td>\n",
       "      <td>1.749941</td>\n",
       "      <td>0.257437</td>\n",
       "      <td>0.783204</td>\n",
       "      <td>0.172394</td>\n",
       "      <td>0.449499</td>\n",
       "      <td>0.376102</td>\n",
       "      <td>72.200750</td>\n",
       "      <td>10.496721</td>\n",
       "      <td>0.546202</td>\n",
       "      <td>3.901218</td>\n",
       "      <td>7.990817</td>\n",
       "      <td>2.238768</td>\n",
       "      <td>3.123153</td>\n",
       "      <td>0.465425</td>\n",
       "      <td>1.289675</td>\n",
       "      <td>0.166513</td>\n",
       "    </tr>\n",
       "    <tr>\n",
       "      <th>std</th>\n",
       "      <td>1441.634430</td>\n",
       "      <td>3.433060</td>\n",
       "      <td>25.091839</td>\n",
       "      <td>20.155306</td>\n",
       "      <td>20.453141</td>\n",
       "      <td>4.518315</td>\n",
       "      <td>314.030129</td>\n",
       "      <td>6.511393</td>\n",
       "      <td>0.107065</td>\n",
       "      <td>4.822903</td>\n",
       "      <td>0.202750</td>\n",
       "      <td>1.837692</td>\n",
       "      <td>3.898970</td>\n",
       "      <td>1.113632</td>\n",
       "      <td>1.430719</td>\n",
       "      <td>0.452012</td>\n",
       "      <td>1.238303</td>\n",
       "      <td>0.172964</td>\n",
       "      <td>0.118009</td>\n",
       "      <td>0.216717</td>\n",
       "      <td>48.746665</td>\n",
       "      <td>7.085283</td>\n",
       "      <td>0.312858</td>\n",
       "      <td>2.676499</td>\n",
       "      <td>5.517101</td>\n",
       "      <td>1.664288</td>\n",
       "      <td>2.274340</td>\n",
       "      <td>0.732049</td>\n",
       "      <td>1.965598</td>\n",
       "      <td>0.187308</td>\n",
       "    </tr>\n",
       "    <tr>\n",
       "      <th>min</th>\n",
       "      <td>0.000000</td>\n",
       "      <td>63.000000</td>\n",
       "      <td>133.000000</td>\n",
       "      <td>1947.000000</td>\n",
       "      <td>1952.000000</td>\n",
       "      <td>0.000000</td>\n",
       "      <td>1.000000</td>\n",
       "      <td>-52.700000</td>\n",
       "      <td>0.000000</td>\n",
       "      <td>0.000000</td>\n",
       "      <td>0.000000</td>\n",
       "      <td>0.000000</td>\n",
       "      <td>0.000000</td>\n",
       "      <td>0.000000</td>\n",
       "      <td>0.000000</td>\n",
       "      <td>0.000000</td>\n",
       "      <td>0.000000</td>\n",
       "      <td>0.000000</td>\n",
       "      <td>0.000000</td>\n",
       "      <td>0.000000</td>\n",
       "      <td>0.000000</td>\n",
       "      <td>0.000000</td>\n",
       "      <td>0.000000</td>\n",
       "      <td>0.000000</td>\n",
       "      <td>0.000000</td>\n",
       "      <td>0.000000</td>\n",
       "      <td>0.000000</td>\n",
       "      <td>0.000000</td>\n",
       "      <td>0.000000</td>\n",
       "      <td>0.000000</td>\n",
       "    </tr>\n",
       "    <tr>\n",
       "      <th>25%</th>\n",
       "      <td>1216.000000</td>\n",
       "      <td>75.000000</td>\n",
       "      <td>190.000000</td>\n",
       "      <td>1973.000000</td>\n",
       "      <td>1977.000000</td>\n",
       "      <td>0.000000</td>\n",
       "      <td>32.000000</td>\n",
       "      <td>9.000000</td>\n",
       "      <td>0.380000</td>\n",
       "      <td>2.900000</td>\n",
       "      <td>0.622000</td>\n",
       "      <td>1.100000</td>\n",
       "      <td>2.800000</td>\n",
       "      <td>0.500000</td>\n",
       "      <td>0.800000</td>\n",
       "      <td>0.000000</td>\n",
       "      <td>0.000000</td>\n",
       "      <td>0.000000</td>\n",
       "      <td>0.419000</td>\n",
       "      <td>0.388000</td>\n",
       "      <td>28.000000</td>\n",
       "      <td>4.900000</td>\n",
       "      <td>0.512000</td>\n",
       "      <td>1.900000</td>\n",
       "      <td>3.600000</td>\n",
       "      <td>0.800000</td>\n",
       "      <td>1.200000</td>\n",
       "      <td>0.000000</td>\n",
       "      <td>0.000000</td>\n",
       "      <td>0.000000</td>\n",
       "    </tr>\n",
       "    <tr>\n",
       "      <th>50%</th>\n",
       "      <td>2451.000000</td>\n",
       "      <td>78.000000</td>\n",
       "      <td>210.000000</td>\n",
       "      <td>1990.000000</td>\n",
       "      <td>1996.000000</td>\n",
       "      <td>3.000000</td>\n",
       "      <td>142.000000</td>\n",
       "      <td>11.700000</td>\n",
       "      <td>0.429000</td>\n",
       "      <td>5.300000</td>\n",
       "      <td>0.717000</td>\n",
       "      <td>2.100000</td>\n",
       "      <td>4.800000</td>\n",
       "      <td>1.000000</td>\n",
       "      <td>1.400000</td>\n",
       "      <td>0.000000</td>\n",
       "      <td>0.100000</td>\n",
       "      <td>0.176000</td>\n",
       "      <td>0.464000</td>\n",
       "      <td>0.462000</td>\n",
       "      <td>82.000000</td>\n",
       "      <td>11.900000</td>\n",
       "      <td>0.689000</td>\n",
       "      <td>4.300000</td>\n",
       "      <td>8.800000</td>\n",
       "      <td>2.400000</td>\n",
       "      <td>3.300000</td>\n",
       "      <td>0.000000</td>\n",
       "      <td>0.000000</td>\n",
       "      <td>0.000000</td>\n",
       "    </tr>\n",
       "    <tr>\n",
       "      <th>75%</th>\n",
       "      <td>3728.000000</td>\n",
       "      <td>81.000000</td>\n",
       "      <td>225.000000</td>\n",
       "      <td>2008.000000</td>\n",
       "      <td>2014.000000</td>\n",
       "      <td>8.000000</td>\n",
       "      <td>474.000000</td>\n",
       "      <td>14.100000</td>\n",
       "      <td>0.467000</td>\n",
       "      <td>8.900000</td>\n",
       "      <td>0.783000</td>\n",
       "      <td>3.400000</td>\n",
       "      <td>7.900000</td>\n",
       "      <td>1.700000</td>\n",
       "      <td>2.300000</td>\n",
       "      <td>0.300000</td>\n",
       "      <td>1.100000</td>\n",
       "      <td>0.323000</td>\n",
       "      <td>0.500000</td>\n",
       "      <td>0.515000</td>\n",
       "      <td>116.000000</td>\n",
       "      <td>15.400000</td>\n",
       "      <td>0.756000</td>\n",
       "      <td>5.700000</td>\n",
       "      <td>11.700000</td>\n",
       "      <td>3.300000</td>\n",
       "      <td>4.600000</td>\n",
       "      <td>0.800000</td>\n",
       "      <td>2.500000</td>\n",
       "      <td>0.350000</td>\n",
       "    </tr>\n",
       "    <tr>\n",
       "      <th>max</th>\n",
       "      <td>4948.000000</td>\n",
       "      <td>91.000000</td>\n",
       "      <td>360.000000</td>\n",
       "      <td>2022.000000</td>\n",
       "      <td>2022.000000</td>\n",
       "      <td>22.000000</td>\n",
       "      <td>1611.000000</td>\n",
       "      <td>88.300000</td>\n",
       "      <td>1.000000</td>\n",
       "      <td>30.100000</td>\n",
       "      <td>1.000000</td>\n",
       "      <td>12.100000</td>\n",
       "      <td>23.800000</td>\n",
       "      <td>7.800000</td>\n",
       "      <td>11.400000</td>\n",
       "      <td>3.800000</td>\n",
       "      <td>8.700000</td>\n",
       "      <td>1.000000</td>\n",
       "      <td>1.500000</td>\n",
       "      <td>1.467000</td>\n",
       "      <td>152.000000</td>\n",
       "      <td>44.200000</td>\n",
       "      <td>1.745000</td>\n",
       "      <td>16.700000</td>\n",
       "      <td>38.100000</td>\n",
       "      <td>10.800000</td>\n",
       "      <td>14.400000</td>\n",
       "      <td>4.000000</td>\n",
       "      <td>10.800000</td>\n",
       "      <td>1.000000</td>\n",
       "    </tr>\n",
       "  </tbody>\n",
       "</table>\n",
       "</div>"
      ],
      "text/plain": [
       "        Unnamed: 0       height       weight  active_from    active_to  \\\n",
       "count  4269.000000  4269.000000  4269.000000  4269.000000  4269.000000   \n",
       "mean   2472.187163    78.066292   209.717967  1989.909112  1994.367768   \n",
       "std    1441.634430     3.433060    25.091839    20.155306    20.453141   \n",
       "min       0.000000    63.000000   133.000000  1947.000000  1952.000000   \n",
       "25%    1216.000000    75.000000   190.000000  1973.000000  1977.000000   \n",
       "50%    2451.000000    78.000000   210.000000  1990.000000  1996.000000   \n",
       "75%    3728.000000    81.000000   225.000000  2008.000000  2014.000000   \n",
       "max    4948.000000    91.000000   360.000000  2022.000000  2022.000000   \n",
       "\n",
       "       years_played_NBA  NBA_g_played      NBA_per      NBA_fg%      NBA_ppg  \\\n",
       "count       4269.000000   4269.000000  4269.000000  4269.000000  4269.000000   \n",
       "mean           4.458655    283.939799    11.221410     0.415855     6.516936   \n",
       "std            4.518315    314.030129     6.511393     0.107065     4.822903   \n",
       "min            0.000000      1.000000   -52.700000     0.000000     0.000000   \n",
       "25%            0.000000     32.000000     9.000000     0.380000     2.900000   \n",
       "50%            3.000000    142.000000    11.700000     0.429000     5.300000   \n",
       "75%            8.000000    474.000000    14.100000     0.467000     8.900000   \n",
       "max           22.000000   1611.000000    88.300000     1.000000    30.100000   \n",
       "\n",
       "           NBA_ft%     NBA_fgpg    NBA_fgapg     NBA_ftpg    NBA_ftapg  \\\n",
       "count  4269.000000  4269.000000  4269.000000  4269.000000  4269.000000   \n",
       "mean      0.669364     2.498454     5.770461     1.267182     1.749941   \n",
       "std       0.202750     1.837692     3.898970     1.113632     1.430719   \n",
       "min       0.000000     0.000000     0.000000     0.000000     0.000000   \n",
       "25%       0.622000     1.100000     2.800000     0.500000     0.800000   \n",
       "50%       0.717000     2.100000     4.800000     1.000000     1.400000   \n",
       "75%       0.783000     3.400000     7.900000     1.700000     2.300000   \n",
       "max       1.000000    12.100000    23.800000     7.800000    11.400000   \n",
       "\n",
       "         NBA_3ptpg   NBA_3ptapg     NBA_3pt%     NBA_efg%     NCAA_fg%  \\\n",
       "count  4269.000000  4269.000000  4269.000000  3512.000000  4247.000000   \n",
       "mean      0.257437     0.783204     0.172394     0.449499     0.376102   \n",
       "std       0.452012     1.238303     0.172964     0.118009     0.216717   \n",
       "min       0.000000     0.000000     0.000000     0.000000     0.000000   \n",
       "25%       0.000000     0.000000     0.000000     0.419000     0.388000   \n",
       "50%       0.000000     0.100000     0.176000     0.464000     0.462000   \n",
       "75%       0.300000     1.100000     0.323000     0.500000     0.515000   \n",
       "max       3.800000     8.700000     1.000000     1.500000     1.467000   \n",
       "\n",
       "        NCAA_games     NCAA_ppg      NCAA_ft    NCAA_fgpg   NCAA_fgapg  \\\n",
       "count  4269.000000  4269.000000  4263.000000  4269.000000  4247.000000   \n",
       "mean     72.200750    10.496721     0.546202     3.901218     7.990817   \n",
       "std      48.746665     7.085283     0.312858     2.676499     5.517101   \n",
       "min       0.000000     0.000000     0.000000     0.000000     0.000000   \n",
       "25%      28.000000     4.900000     0.512000     1.900000     3.600000   \n",
       "50%      82.000000    11.900000     0.689000     4.300000     8.800000   \n",
       "75%     116.000000    15.400000     0.756000     5.700000    11.700000   \n",
       "max     152.000000    44.200000     1.745000    16.700000    38.100000   \n",
       "\n",
       "         NCAA_ftpg   NCAA_ftapg   NCAA_3ptpg  NCAA_3ptapg    NCAA_3pt%  \n",
       "count  4269.000000  4263.000000  4000.000000  4000.000000  4039.000000  \n",
       "mean      2.238768     3.123153     0.465425     1.289675     0.166513  \n",
       "std       1.664288     2.274340     0.732049     1.965598     0.187308  \n",
       "min       0.000000     0.000000     0.000000     0.000000     0.000000  \n",
       "25%       0.800000     1.200000     0.000000     0.000000     0.000000  \n",
       "50%       2.400000     3.300000     0.000000     0.000000     0.000000  \n",
       "75%       3.300000     4.600000     0.800000     2.500000     0.350000  \n",
       "max      10.800000    14.400000     4.000000    10.800000     1.000000  "
      ]
     },
     "execution_count": 5,
     "metadata": {},
     "output_type": "execute_result"
    }
   ],
   "source": [
    "# taking a look at the dataset\n",
    "final_df.describe()"
   ]
  },
  {
   "cell_type": "code",
   "execution_count": 6,
   "metadata": {},
   "outputs": [
    {
     "name": "stderr",
     "output_type": "stream",
     "text": [
      "/tmp/ipykernel_483/4111984175.py:7: RuntimeWarning: invalid value encountered in double_scalars\n",
      "  ncaa_ts.append((final_df['NCAA_ppg'][index]) / (2 * (final_df['NCAA_fgapg'][index] + (0.44 * final_df['NCAA_ftapg'][index]))))\n"
     ]
    }
   ],
   "source": [
    "# calculating NCAA True Shooting Percentage (TS%) to see if it correlates with NBA PER\n",
    "# TS% is defined as PPG / (2 * (FGAPG + 0.44*FTAPG))\n",
    "\n",
    "ncaa_ts = []\n",
    "\n",
    "for index, row in final_df.iterrows():\n",
    "    ncaa_ts.append((final_df['NCAA_ppg'][index]) / (2 * (final_df['NCAA_fgapg'][index] + (0.44 * final_df['NCAA_ftapg'][index]))))\n",
    "    \n",
    "final_df['NCAA_ts%'] = ncaa_ts"
   ]
  },
  {
   "cell_type": "code",
   "execution_count": 7,
   "metadata": {},
   "outputs": [],
   "source": [
    "# creating a new dataframe to determine average PER by position\n",
    "# this line groups the data by position, then takes the mean of each group's PER\n",
    "per_by_pos = final_df.groupby('position', as_index=False)['NBA_per'].mean() "
   ]
  },
  {
   "cell_type": "code",
   "execution_count": 8,
   "metadata": {},
   "outputs": [
    {
     "data": {
      "text/plain": [
       "Text(0, 0.5, 'NBA PER')"
      ]
     },
     "execution_count": 8,
     "metadata": {},
     "output_type": "execute_result"
    },
    {
     "data": {
      "image/png": "[encoded data removed]",
      "text/plain": [
       "<Figure size 576x360 with 1 Axes>"
      ]
     },
     "metadata": {
      "needs_background": "light"
     },
     "output_type": "display_data"
    }
   ],
   "source": [
    "# this chart displays the average PER by position\n",
    "plt.figure(figsize=(8, 5))\n",
    "sns.barplot(\n",
    "    x=per_by_pos['position'],\n",
    "    y=per_by_pos['NBA_per']\n",
    ")\n",
    "plt.title('Average PER by Position')\n",
    "plt.xlabel('Position')\n",
    "plt.ylabel('NBA PER')"
   ]
  },
  {
   "cell_type": "code",
   "execution_count": 9,
   "metadata": {},
   "outputs": [
    {
     "data": {
      "image/png": "[encoded data removed]",
      "text/plain": [
       "<Figure size 720x576 with 2 Axes>"
      ]
     },
     "metadata": {
      "needs_background": "light"
     },
     "output_type": "display_data"
    }
   ],
   "source": [
    "# heatmap to examine the correlation between NCAA statistics and PER\n",
    "plt.figure(figsize=(10,8))\n",
    "cor_sorted = final_df[['NBA_per','NCAA_fgpg', 'NCAA_ftapg', 'NCAA_ppg', 'NCAA_ftpg', \n",
    "                   'NCAA_fgapg', 'NCAA_fg%', 'NCAA_ts%',\n",
    "                   'NCAA_ft', 'weight', 'height', 'NCAA_games'\n",
    "                ]].corr()\n",
    "sns.heatmap(cor_sorted, annot=True, cmap=plt.cm.Reds)\n",
    "plt.title('Correlation Between Player Stats and PER')\n",
    "plt.show()"
   ]
  },
  {
   "cell_type": "code",
   "execution_count": 10,
   "metadata": {},
   "outputs": [
    {
     "data": {
      "image/png": "[encoded data removed]",
      "text/plain": [
       "<Figure size 576x360 with 1 Axes>"
      ]
     },
     "metadata": {
      "needs_background": "light"
     },
     "output_type": "display_data"
    }
   ],
   "source": [
    "# bar chart to display the NCAA stats that have the highest correlation with PER\n",
    "# shows the same information as the first row (or column) of the heatmap above\n",
    "plt.figure(figsize=(8, 5))\n",
    "sns.barplot(\n",
    "    x=cor_sorted.columns[1:],\n",
    "    y=cor_sorted['NBA_per'][1:]\n",
    ")\n",
    "plt.title('Correlation Between NCAA Stats and NBA PER')\n",
    "plt.xticks(rotation=45)\n",
    "plt.show()"
   ]
  },
  {
   "cell_type": "code",
   "execution_count": 11,
   "metadata": {},
   "outputs": [
    {
     "data": {
      "image/png": "[encoded data removed]",
      "text/plain": [
       "<Figure size 720x576 with 2 Axes>"
      ]
     },
     "metadata": {
      "needs_background": "light"
     },
     "output_type": "display_data"
    }
   ],
   "source": [
    "# smaller heatmap to get a better view of the stats that are most highly correlated with PER\n",
    "plt.figure(figsize=(10,8))\n",
    "cor_sorted_smaller = final_df[['NBA_per','NCAA_fgpg', 'NCAA_ftapg', 'NCAA_ppg', 'NCAA_ftpg', \n",
    "                   'NCAA_fgapg', 'NCAA_fg%'\n",
    "                ]].corr()\n",
    "sns.heatmap(cor_sorted_smaller, annot=True, cmap=plt.cm.Reds)\n",
    "plt.title('Correlation Between Player Stats and PER')\n",
    "plt.show()"
   ]
  },
  {
   "cell_type": "code",
   "execution_count": 12,
   "metadata": {},
   "outputs": [],
   "source": [
    "# creating a new dataframe to use for a multiple linear regression model\n",
    "# this dataframe is a copy of the cleaned dataset, without redundant stats and NBA stats besides PER\n",
    "PER_df = final_df[['NBA_per',       \n",
    "       'NCAA_fgpg', 'NCAA_ftapg', 'NCAA_ftpg',\n",
    "       'NCAA_fgapg',\n",
    "       'weight', 'height',\n",
    "       'NCAA_games', 'NCAA_3ptpg',\n",
    "       'NCAA_3ptapg'\n",
    "                ]].dropna()\n",
    "\n",
    "# predictor variables include NCAA stats and physical attributes\n",
    "PER_X = PER_df[['NCAA_fgpg', 'NCAA_ftapg', 'NCAA_ftpg', \n",
    "       'NCAA_fgapg',\n",
    "       'weight', 'height',\n",
    "       'NCAA_games', 'NCAA_3ptpg',\n",
    "       'NCAA_3ptapg']]\n",
    "\n",
    "# dependent variable is PER\n",
    "PER_Y = PER_df[['NBA_per']]"
   ]
  },
  {
   "cell_type": "code",
   "execution_count": 13,
   "metadata": {},
   "outputs": [],
   "source": [
    "# splitting the data into train and test sets\n",
    "PER_train_X, PER_test_X, PER_train_Y, PER_test_Y = train_test_split(PER_X, PER_Y, test_size=0.2, random_state=200)"
   ]
  },
  {
   "cell_type": "code",
   "execution_count": 14,
   "metadata": {},
   "outputs": [
    {
     "name": "stderr",
     "output_type": "stream",
     "text": [
      "/opt/conda/lib/python3.9/site-packages/statsmodels/tsa/tsatools.py:142: FutureWarning: In a future version of pandas all arguments of concat except for the argument 'objs' will be keyword-only\n",
      "  x = pd.concat(x[::order], 1)\n"
     ]
    }
   ],
   "source": [
    "# adding a constant in order to use OLS\n",
    "PER_train_X = sm.add_constant(PER_train_X)"
   ]
  },
  {
   "cell_type": "code",
   "execution_count": 15,
   "metadata": {},
   "outputs": [],
   "source": [
    "# creating a multiple linear regression model with the training sets\n",
    "model = sm.OLS(PER_train_Y, PER_train_X).fit()"
   ]
  },
  {
   "cell_type": "code",
   "execution_count": 16,
   "metadata": {},
   "outputs": [],
   "source": [
    "# adding a constant in order to use OLS\n",
    "PER_test_X = sm.add_constant(PER_test_X)\n",
    "\n",
    "# predicting player PER values based on the test set\n",
    "predictions = model.predict(PER_test_X)"
   ]
  },
  {
   "cell_type": "code",
   "execution_count": 17,
   "metadata": {},
   "outputs": [],
   "source": [
    "# transforming the predictions into a list\n",
    "pred = predictions.tolist()\n",
    "\n",
    "# transforming the actual PER values into a list\n",
    "actual = PER_test_Y['NBA_per'].tolist()\n",
    "\n",
    "# creating a dataframe containing predicted and actual PER values\n",
    "pred_v_actual = pd.DataFrame(list(zip(actual, pred)), columns=['Actual PER', 'Predicted PER'])"
   ]
  },
  {
   "cell_type": "code",
   "execution_count": 18,
   "metadata": {},
   "outputs": [
    {
     "data": {
      "text/plain": [
       "<Figure size 864x720 with 0 Axes>"
      ]
     },
     "metadata": {},
     "output_type": "display_data"
    },
    {
     "data": {
      "image/png": "[encoded data removed]",
      "text/plain": [
       "<Figure size 360x360 with 1 Axes>"
      ]
     },
     "metadata": {
      "needs_background": "light"
     },
     "output_type": "display_data"
    }
   ],
   "source": [
    "# plotting the predicted and actual values to see if there is a correlation\n",
    "plt.figure(figsize=(12,10))\n",
    "sns.lmplot(\n",
    "    x='Actual PER',\n",
    "    y='Predicted PER',\n",
    "    data=pred_v_actual,\n",
    "    fit_reg=True,\n",
    "    scatter_kws={'alpha':0.3}\n",
    ")\n",
    "plt.title('Predicted vs Actual NBA PER')\n",
    "plt.show()"
   ]
  },
  {
   "cell_type": "code",
   "execution_count": 19,
   "metadata": {},
   "outputs": [
    {
     "name": "stdout",
     "output_type": "stream",
     "text": [
      "                            OLS Regression Results                            \n",
      "==============================================================================\n",
      "Dep. Variable:                NBA_per   R-squared:                       0.089\n",
      "Model:                            OLS   Adj. R-squared:                  0.087\n",
      "Method:                 Least Squares   F-statistic:                     34.58\n",
      "Date:                Fri, 10 Dec 2021   Prob (F-statistic):           1.04e-58\n",
      "Time:                        15:36:10   Log-Likelihood:                -10398.\n",
      "No. Observations:                3182   AIC:                         2.082e+04\n",
      "Df Residuals:                    3172   BIC:                         2.088e+04\n",
      "Df Model:                           9                                         \n",
      "Covariance Type:            nonrobust                                         \n",
      "===============================================================================\n",
      "                  coef    std err          t      P>|t|      [0.025      0.975]\n",
      "-------------------------------------------------------------------------------\n",
      "const           2.6146      3.443      0.759      0.448      -4.135       9.364\n",
      "NCAA_fgpg       2.0023      0.265      7.550      0.000       1.482       2.522\n",
      "NCAA_ftapg     -0.2186      0.317     -0.689      0.491      -0.841       0.404\n",
      "NCAA_ftpg       0.5797      0.419      1.383      0.167      -0.242       1.402\n",
      "NCAA_fgapg     -0.6903      0.129     -5.352      0.000      -0.943      -0.437\n",
      "weight          0.0116      0.008      1.470      0.142      -0.004       0.027\n",
      "height          0.0607      0.057      1.057      0.291      -0.052       0.173\n",
      "NCAA_games     -0.0192      0.003     -6.324      0.000      -0.025      -0.013\n",
      "NCAA_3ptpg      0.3533      1.275      0.277      0.782      -2.146       2.852\n",
      "NCAA_3ptapg    -0.1351      0.481     -0.281      0.779      -1.079       0.809\n",
      "==============================================================================\n",
      "Omnibus:                     1013.898   Durbin-Watson:                   2.032\n",
      "Prob(Omnibus):                  0.000   Jarque-Bera (JB):           127542.743\n",
      "Skew:                           0.411   Prob(JB):                         0.00\n",
      "Kurtosis:                      34.005   Cond. No.                     7.22e+03\n",
      "==============================================================================\n",
      "\n",
      "Notes:\n",
      "[1] Standard Errors assume that the covariance matrix of the errors is correctly specified.\n",
      "[2] The condition number is large, 7.22e+03. This might indicate that there are\n",
      "strong multicollinearity or other numerical problems.\n"
     ]
    }
   ],
   "source": [
    "# checking the model summary to see the results\n",
    "# within an adjusted R-squared of 0.087, this model is very innacurate\n",
    "print_model = model.summary()\n",
    "print(print_model) "

   ]
  },
  {
   "cell_type": "markdown",
   "metadata": {},
   "source": [
    "# Ethics & Privacy"
   ]
  },
  {
   "cell_type": "markdown",
   "metadata": {},
   "source": [
    "In terms of privacy, the data that we intend to collect is readily available to the general public, so privacy is not one of our main concerns. Biases in our model could exist since the process of drafting players into the NBA is a fundamentally biased process. Scouts and general managers look for certain characteristics in potential players before signing them, and biases in their selection process have a direct impact on which players get a chance to prove themselves in the league. Without taking the proper steps to minimize bias in our model, we could potentially create a model which reinforces those biases and would make it harder for certain players to be drafted if NBA teams were to use our model. In order to detect these biases, we will analyze the datasets we collect to determine what player characteristics are prevalent in drafted players, and aim to understand how much of that is due to bias and how much is due to actual ability. For example, NBA scouts may have a strong bias in preferring taller players, so we will need to determine whether this is a reasonable strategy or an unhelpful bias. Certain “smaller” players with smaller measurements such as Stephen Curry and Donovan Mitchell were deemed by scouts as too “small” to thrive in the modern NBA but have developed into premier stars, indicating that the bias regarding height would not always be correct. However, this topic as a whole is particularly tricky in regards to certain types of discrimination such as age and body type. With how young many of these athletes are drafted, many of these players are still filling out into their own bodies, often needing professional NBA dieticians and physicians to realize their growth and full potential. When it comes to consistent athletic performance those factors are important. We will need to be extremely thorough in our efforts to understand how much unnecessary bias exists in the drafting process."
   ]
  },
  {
   "cell_type": "markdown",
   "metadata": {},
   "source": [
    "# Conclusion & Discussion"
   ]
  },
  {
   "cell_type": "markdown",
   "metadata": {},
   "source": [
    "*Fill in your discussion information here*"
   ]
  },
  {
   "cell_type": "markdown",
   "metadata": {},
   "source": [
    "# Team Contributions"
   ]
  },
  {
   "cell_type": "markdown",
   "metadata": {},
   "source": [
    "*Specify who in your group worked on which parts of the project.*"
   ]
  }
 ],
 "metadata": {
  "kernelspec": {
   "display_name": "Python 3",
   "language": "python",
   "name": "python3"
  },
  "language_info": {
   "codemirror_mode": {
    "name": "ipython",
    "version": 3
   },
   "file_extension": ".py",
   "mimetype": "text/x-python",
   "name": "python",
   "nbconvert_exporter": "python",
   "pygments_lexer": "ipython3",
   "version": "3.9.5"
  }
 },
 "nbformat": 4,
 "nbformat_minor": 2
}
