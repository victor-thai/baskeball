{
 "cells": [
  {
   "cell_type": "markdown",
   "metadata": {},
   "source": [
    "# COGS 108 - Final Project (change this to your project's title)"
   ]
  },
  {
   "cell_type": "markdown",
   "metadata": {},
   "source": [
    "## Permissions\n",
    "\n",
    "Place an `X` in the appropriate bracket below to specify if you would like your group's project to be made available to the public. (Note that student names will be included (but PIDs will be scraped from any groups who include their PIDs).\n",
    "\n",
    "* [  ] YES - make available\n",
    "* [ X ] NO - keep private"
   ]
  },
  {
   "cell_type": "markdown",
   "metadata": {},
   "source": [
    "# Overview"
   ]
  },
  {
   "cell_type": "markdown",
   "metadata": {},
   "source": [
    "*Fill in your overview here*"
   ]
  },
  {
   "cell_type": "markdown",
   "metadata": {},
   "source": [
    "# Names\n",
    "\n",
    "- Charles Ye (A15864281)\n",
    "- Thomas Fratantoni (A15940388)\n",
    "- Victor Thai (A16666301)\n",
    "- Wajiullah Abdullah (A13013121)"
   ]
  },
  {
   "cell_type": "markdown",
   "metadata": {},
   "source": [
    "<a id='research_question'></a>\n",
    "# Research Question"
   ]
  },
  {
   "cell_type": "markdown",
   "metadata": {},
   "source": [
    "Is there a relationship between a NCAA basketball player’s statistics (height, collegiate league performance, efficiency ratings) and their success/player efficiency rating in the NBA?"
   ]
  },
  {
   "cell_type": "markdown",
   "metadata": {},
   "source": [
    "<a id='background'></a>\n",
    "\n",
    "## Background & Prior Work"
   ]
  },
  {
   "cell_type": "markdown",
   "metadata": {},
   "source": [
    "Is there a minimum height requirement for college basketball (NCAA) players to meet in order to be successful in the NBA? Many of these players are still growing with how young some are drafted, so even then draft scouts and teams are drafting based on potential for growth. According to Dimitrije Curcic in “70 years of Height Evolution in the NBA” the average NBA player is 6’6.3” (2021) which is the lowest it has been over the past 41 years. The last decade was the first in the history of the league where NBA players got shorter than a decade before Curcic expands. Although fewer in number, the death of the NBA big man has been greatly exaggerated as NBA big-men are dominating in shooting efficiency and PER, breaking all-time NBA records. To explore our question, we looked at field goal percentage, points per game, free throw percentage, field goals, three pointers both attempted and made per game, as well as effective field goal percentage throughout their collegiate and professional careers to find a relationship in these statistics to determine if college performance was determinant to NBA success. \n",
    "\n",
    "Field goal percentage is the ratio of field goals made to field goals attempted, although three-point field goal percentage can be calculated separately, three-point field goals are included in this general field goal percentage measurement. \n",
    "\n",
    "Effective field goal percentage is a statistic in basketball that adjusts for the fact that a 3-point field goal is worth one more point than a 2-point field goal.\n",
    "\n",
    "Points per game is the number of points a player has scored over the course of a game. \n",
    "\n",
    "Player efficiency rating is a benchmark statistic in the NBA that gauges the player’s per minute statistical production and relevance to their team. This statistic is widely used in sports analytics to determine the “best” performing players each season. The league average PER is always a clean cut 15.00, readjusting and recalculating each season as the NBA evolves statistically(i.e. more 3s).\n",
    "\n",
    "According to Coates and Oguntimein in “The Length and Success of NBA Careers: Does College Production Predict Professional Outcomes?”, total points scored at the collegiate level had a significant correlation in regards to NBA draft position. While total points scored played a significant role in determining the players’ draft position, they had no correlation at all in accounting for points scored in the NBA possibly due to a variety of factors such as differences in officiating, offensive/defensive structures, and player roles. With this information in mind, we want to see if we can find a correlation between collegiate and NBA success using a broader metric such as PER rather than scoring.\n",
    "\n",
    "With that in mind, Liu and O’Brien in “Are Role Players the Foundation of NBA Team Success?” show how team success has a relative correlation with strong high PER role players. While the NBA is still very much a star driven league (i.e. the top teams will ALWAYS have a player or multiple players in the top 20 PERs of the season as seen at basketball-reference.com), their success in the wins column and post season is largely dependent on the PER of the star(s)’ supporting cast.\n",
    "\n",
    "As such, we believe that PER is a valuable statistic to help gauge the average NBA player’s individual performance and success in the NBA, but it’s not the end all be all. As Kelly Scaletta says in “The NBA’s 10 most meaningless stats and arguments” the problem with PER is that it doesn’t distinguish between an assisted field goal or an unassisted field goal, that way completely ignoring a player’s ability to create their own shot. What’s valuable about players who can create their own shots is that they can influence and change defensive schemes by themselves, and thus draw more attention to themselves and break down defenses.\n",
    "\n",
    "\n",
    "References (include links):\n",
    "- 1)https://www.bruinsportsanalytics.com/post/nba_roleplayers\n",
    "- 2)https://paperzz.com/doc/7132806/the-length-and-success-of-nba-careers\n",
    "- 3)https://runrepeat.com/height-evolution-in-the-nba\n",
    "- 4)https://bleacherreport.com/articles/815181-nba-power-rankings-the-10-most-meaningless-stats-and-arguments-in-basketball"
   ]
  },
  {
   "cell_type": "markdown",
   "metadata": {},
   "source": [
    "# Hypothesis\n"
   ]
  },
  {
   "cell_type": "markdown",
   "metadata": {},
   "source": [
    "We predict that college players with heights around 6’8” to above 7 feet (which would be considered as big men in the NBA), field goal percentages above 50%, and high scoring averages will have the highest player efficiency ratings in the NBA.\n"
   ]
  },
  {
   "cell_type": "markdown",
   "metadata": {},
   "source": [
    "# Dataset(s)"
   ]
  },
  {
   "cell_type": "markdown",
   "metadata": {},
   "source": [
    "*Fill in your dataset information here*\n",
    "\n",
    "(Copy this information for each dataset)\n",
    "- Dataset Name:\n",
    "- Link to the dataset:\n",
    "- Number of observations:\n",
    "\n",
    "1-2 sentences describing each dataset. \n",
    "\n",
    "If you plan to use multiple datasets, add 1-2 sentences about how you plan to combine these datasets."
   ]
  },
  {
   "cell_type": "markdown",
   "metadata": {},
   "source": [
    "# Setup"
   ]
  },
  {
   "cell_type": "code",
   "execution_count": 1,
   "metadata": {},
   "outputs": [],
   "source": [
    "## YOUR CODE HERE"
   ]
  },
  {
   "cell_type": "markdown",
   "metadata": {},
   "source": [
    "# Data Cleaning"
   ]
  },
  {
   "cell_type": "markdown",
   "metadata": {},
   "source": [
    "Describe your data cleaning steps here."
   ]
  },
  {
   "cell_type": "code",
   "execution_count": 2,
   "metadata": {},
   "outputs": [],
   "source": [
    "## YOUR CODE HERE\n",
    "## FEEL FREE TO ADD MULTIPLE CELLS PER SECTION"
   ]
  },
  {
   "cell_type": "markdown",
   "metadata": {},
   "source": [
    "# Data Analysis & Results"
   ]
  },
  {
   "cell_type": "markdown",
   "metadata": {},
   "source": [
    "Include cells that describe the steps in your data analysis."
   ]
  },
  {
   "cell_type": "code",
   "execution_count": 3,
   "metadata": {},
   "outputs": [],
   "source": [
    "## YOUR CODE HERE\n",
    "## FEEL FREE TO ADD MULTIPLE CELLS PER SECTION"
   ]
  },
  {
   "cell_type": "markdown",
   "metadata": {},
   "source": [
    "# Ethics & Privacy"
   ]
  },
  {
   "cell_type": "markdown",
   "metadata": {},
   "source": [
    "In terms of privacy, the data that we intend to collect is readily available to the general public, so privacy is not one of our main concerns. Biases in our model could exist since the process of drafting players into the NBA is a fundamentally biased process. Scouts and general managers look for certain characteristics in potential players before signing them, and biases in their selection process have a direct impact on which players get a chance to prove themselves in the league. Without taking the proper steps to minimize bias in our model, we could potentially create a model which reinforces those biases and would make it harder for certain players to be drafted if NBA teams were to use our model. In order to detect these biases, we will analyze the datasets we collect to determine what player characteristics are prevalent in drafted players, and aim to understand how much of that is due to bias and how much is due to actual ability. For example, NBA scouts may have a strong bias in preferring taller players, so we will need to determine whether this is a reasonable strategy or an unhelpful bias. This topic is particularly tricky in regards to certain types of discrimination such as age and body type. With how young many of these athletes are drafted, many of these players are still filling out into their own bodies, often needing professional NBA dieticians and physicians to realize their growth. When it comes to consistent athletic performance those factors are important. We will need to be extremely thorough in our efforts to understand how much unnecessary bias exists in the drafting process."
   ]
  },
  {
   "cell_type": "markdown",
   "metadata": {},
   "source": [
    "# Conclusion & Discussion"
   ]
  },
  {
   "cell_type": "markdown",
   "metadata": {},
   "source": [
    "*Fill in your discussion information here*"
   ]
  },
  {
   "cell_type": "markdown",
   "metadata": {},
   "source": [
    "# Team Contributions"
   ]
  },
  {
   "cell_type": "markdown",
   "metadata": {},
   "source": [
    "*Specify who in your group worked on which parts of the project.*"
   ]
  }
 ],
 "metadata": {
  "kernelspec": {
   "display_name": "Python 3 (ipykernel)",
   "language": "python",
   "name": "python3"
  },
  "language_info": {
   "codemirror_mode": {
    "name": "ipython",
    "version": 3
   },
   "file_extension": ".py",
   "mimetype": "text/x-python",
   "name": "python",
   "nbconvert_exporter": "python",
   "pygments_lexer": "ipython3",
   "version": "3.9.5"
  }
 },
 "nbformat": 4,
 "nbformat_minor": 2
}
